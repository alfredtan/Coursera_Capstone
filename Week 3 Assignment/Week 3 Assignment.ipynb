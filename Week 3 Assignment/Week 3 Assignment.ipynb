{
 "cells": [
  {
   "cell_type": "markdown",
   "metadata": {},
   "source": [
    "# Week 3 Assignment\n",
    "\n",
    "## Segmenting and Clustering Neighborhoods in Toronto\n",
    "\n",
    "---\n"
   ]
  },
  {
   "cell_type": "markdown",
   "metadata": {},
   "source": [
    "**Import the libaries**"
   ]
  },
  {
   "cell_type": "code",
   "execution_count": 40,
   "metadata": {},
   "outputs": [],
   "source": [
    "import numpy as np # library to handle data in a vectorized manner\n",
    "import pandas as pd # library for data analsysis"
   ]
  },
  {
   "cell_type": "markdown",
   "metadata": {},
   "source": [
    "**Read the CSV**"
   ]
  },
  {
   "cell_type": "code",
   "execution_count": 41,
   "metadata": {},
   "outputs": [
    {
     "data": {
      "text/html": [
       "<div>\n",
       "<style scoped>\n",
       "    .dataframe tbody tr th:only-of-type {\n",
       "        vertical-align: middle;\n",
       "    }\n",
       "\n",
       "    .dataframe tbody tr th {\n",
       "        vertical-align: top;\n",
       "    }\n",
       "\n",
       "    .dataframe thead th {\n",
       "        text-align: right;\n",
       "    }\n",
       "</style>\n",
       "<table border=\"1\" class=\"dataframe\">\n",
       "  <thead>\n",
       "    <tr style=\"text-align: right;\">\n",
       "      <th></th>\n",
       "      <th>Postal Code</th>\n",
       "      <th>Borough</th>\n",
       "      <th>Neighborhood</th>\n",
       "    </tr>\n",
       "  </thead>\n",
       "  <tbody>\n",
       "    <tr>\n",
       "      <th>0</th>\n",
       "      <td>M1A</td>\n",
       "      <td>Not assigned</td>\n",
       "      <td>Not assigned</td>\n",
       "    </tr>\n",
       "    <tr>\n",
       "      <th>1</th>\n",
       "      <td>M2A</td>\n",
       "      <td>Not assigned</td>\n",
       "      <td>Not assigned</td>\n",
       "    </tr>\n",
       "    <tr>\n",
       "      <th>2</th>\n",
       "      <td>M3A</td>\n",
       "      <td>North York</td>\n",
       "      <td>Parkwoods</td>\n",
       "    </tr>\n",
       "    <tr>\n",
       "      <th>3</th>\n",
       "      <td>M4A</td>\n",
       "      <td>North York</td>\n",
       "      <td>Victoria Village</td>\n",
       "    </tr>\n",
       "    <tr>\n",
       "      <th>4</th>\n",
       "      <td>M5A</td>\n",
       "      <td>Downtown Toronto</td>\n",
       "      <td>Regent Park, Harbourfront</td>\n",
       "    </tr>\n",
       "  </tbody>\n",
       "</table>\n",
       "</div>"
      ],
      "text/plain": [
       "  Postal Code           Borough               Neighborhood\n",
       "0         M1A      Not assigned               Not assigned\n",
       "1         M2A      Not assigned               Not assigned\n",
       "2         M3A        North York                  Parkwoods\n",
       "3         M4A        North York           Victoria Village\n",
       "4         M5A  Downtown Toronto  Regent Park, Harbourfront"
      ]
     },
     "execution_count": 41,
     "metadata": {},
     "output_type": "execute_result"
    }
   ],
   "source": [
    "week3_data = pd.read_csv('week3_toronto_data.csv')\n",
    "week3_data.head()"
   ]
  },
  {
   "cell_type": "markdown",
   "metadata": {},
   "source": [
    "**Print the shape of the data**"
   ]
  },
  {
   "cell_type": "code",
   "execution_count": 42,
   "metadata": {},
   "outputs": [
    {
     "data": {
      "text/plain": [
       "(180, 3)"
      ]
     },
     "execution_count": 42,
     "metadata": {},
     "output_type": "execute_result"
    }
   ],
   "source": [
    "# get the Shape\n",
    "week3_data.shape"
   ]
  },
  {
   "cell_type": "markdown",
   "metadata": {},
   "source": [
    "---\n",
    "## PART 1\n",
    "This section is for the first part of the assignment question."
   ]
  },
  {
   "cell_type": "markdown",
   "metadata": {},
   "source": [
    "### Manage 'Not assigned' values\n",
    "\n",
    "1. Replace 'Not assigned with NaN\n",
    "1. Drop rows where borough is NaN\n",
    "1. For Neighborhood with NaN, assign value of Borough (**Note: There are no rows where only Neighborhoods are 'not assigned'**)\n",
    "1. For Borough with multiple rows of Neighbourhood, merged them into 1 row separating the neighborhoods with commas (**Note: the data in the Wiki is already doing this. This will be skipped**)"
   ]
  },
  {
   "cell_type": "code",
   "execution_count": 43,
   "metadata": {},
   "outputs": [
    {
     "name": "stdout",
     "output_type": "stream",
     "text": [
      "There are 0 neighboorhoods with NaN\n"
     ]
    },
    {
     "data": {
      "text/html": [
       "<div>\n",
       "<style scoped>\n",
       "    .dataframe tbody tr th:only-of-type {\n",
       "        vertical-align: middle;\n",
       "    }\n",
       "\n",
       "    .dataframe tbody tr th {\n",
       "        vertical-align: top;\n",
       "    }\n",
       "\n",
       "    .dataframe thead th {\n",
       "        text-align: right;\n",
       "    }\n",
       "</style>\n",
       "<table border=\"1\" class=\"dataframe\">\n",
       "  <thead>\n",
       "    <tr style=\"text-align: right;\">\n",
       "      <th></th>\n",
       "      <th>Postal Code</th>\n",
       "      <th>Borough</th>\n",
       "      <th>Neighborhood</th>\n",
       "    </tr>\n",
       "  </thead>\n",
       "  <tbody>\n",
       "    <tr>\n",
       "      <th>0</th>\n",
       "      <td>M3A</td>\n",
       "      <td>North York</td>\n",
       "      <td>Parkwoods</td>\n",
       "    </tr>\n",
       "    <tr>\n",
       "      <th>1</th>\n",
       "      <td>M4A</td>\n",
       "      <td>North York</td>\n",
       "      <td>Victoria Village</td>\n",
       "    </tr>\n",
       "    <tr>\n",
       "      <th>2</th>\n",
       "      <td>M5A</td>\n",
       "      <td>Downtown Toronto</td>\n",
       "      <td>Regent Park, Harbourfront</td>\n",
       "    </tr>\n",
       "    <tr>\n",
       "      <th>3</th>\n",
       "      <td>M6A</td>\n",
       "      <td>North York</td>\n",
       "      <td>Lawrence Manor, Lawrence Heights</td>\n",
       "    </tr>\n",
       "    <tr>\n",
       "      <th>4</th>\n",
       "      <td>M7A</td>\n",
       "      <td>Downtown Toronto</td>\n",
       "      <td>Queen's Park, Ontario Provincial Government</td>\n",
       "    </tr>\n",
       "  </tbody>\n",
       "</table>\n",
       "</div>"
      ],
      "text/plain": [
       "  Postal Code           Borough                                 Neighborhood\n",
       "0         M3A        North York                                    Parkwoods\n",
       "1         M4A        North York                             Victoria Village\n",
       "2         M5A  Downtown Toronto                    Regent Park, Harbourfront\n",
       "3         M6A        North York             Lawrence Manor, Lawrence Heights\n",
       "4         M7A  Downtown Toronto  Queen's Park, Ontario Provincial Government"
      ]
     },
     "execution_count": 43,
     "metadata": {},
     "output_type": "execute_result"
    }
   ],
   "source": [
    "# replace 'not assigned' with NA\n",
    "week3_data.replace('Not assigned', np.nan, inplace=True);\n",
    "\n",
    "# drop NaN\n",
    "cleaned = week3_data.dropna()\n",
    "cleaned.reset_index(inplace=True, drop=True)\n",
    "\n",
    "# check if there are any neighborhoods with NaN\n",
    "total_hood_with_nan = cleaned[ cleaned['Neighborhood'] == np.nan ];\n",
    "print(\"There are {} neighboorhoods with NaN\".format( len(total_hood_with_nan) ))\n",
    "\n",
    "\n",
    "# print the clean\n",
    "cleaned.head()"
   ]
  },
  {
   "cell_type": "markdown",
   "metadata": {},
   "source": [
    "#### Print the number of rows in the dataframe"
   ]
  },
  {
   "cell_type": "code",
   "execution_count": 44,
   "metadata": {},
   "outputs": [
    {
     "name": "stdout",
     "output_type": "stream",
     "text": [
      "There are 103 rows in the dataframe\n"
     ]
    }
   ],
   "source": [
    "print(\"There are {} rows in the dataframe\".format( cleaned.shape[0] ))"
   ]
  },
  {
   "cell_type": "markdown",
   "metadata": {},
   "source": [
    "---\n",
    "## PART 2\n",
    "This section is for the second part of the assignment question."
   ]
  },
  {
   "cell_type": "markdown",
   "metadata": {},
   "source": [
    "**Read the GeoSpatial Data**"
   ]
  },
  {
   "cell_type": "code",
   "execution_count": 69,
   "metadata": {},
   "outputs": [
    {
     "data": {
      "text/html": [
       "<div>\n",
       "<style scoped>\n",
       "    .dataframe tbody tr th:only-of-type {\n",
       "        vertical-align: middle;\n",
       "    }\n",
       "\n",
       "    .dataframe tbody tr th {\n",
       "        vertical-align: top;\n",
       "    }\n",
       "\n",
       "    .dataframe thead th {\n",
       "        text-align: right;\n",
       "    }\n",
       "</style>\n",
       "<table border=\"1\" class=\"dataframe\">\n",
       "  <thead>\n",
       "    <tr style=\"text-align: right;\">\n",
       "      <th></th>\n",
       "      <th>Postal Code</th>\n",
       "      <th>Latitude</th>\n",
       "      <th>Longitude</th>\n",
       "    </tr>\n",
       "  </thead>\n",
       "  <tbody>\n",
       "    <tr>\n",
       "      <th>0</th>\n",
       "      <td>M1B</td>\n",
       "      <td>43.806686</td>\n",
       "      <td>-79.194353</td>\n",
       "    </tr>\n",
       "    <tr>\n",
       "      <th>1</th>\n",
       "      <td>M1C</td>\n",
       "      <td>43.784535</td>\n",
       "      <td>-79.160497</td>\n",
       "    </tr>\n",
       "    <tr>\n",
       "      <th>2</th>\n",
       "      <td>M1E</td>\n",
       "      <td>43.763573</td>\n",
       "      <td>-79.188711</td>\n",
       "    </tr>\n",
       "    <tr>\n",
       "      <th>3</th>\n",
       "      <td>M1G</td>\n",
       "      <td>43.770992</td>\n",
       "      <td>-79.216917</td>\n",
       "    </tr>\n",
       "    <tr>\n",
       "      <th>4</th>\n",
       "      <td>M1H</td>\n",
       "      <td>43.773136</td>\n",
       "      <td>-79.239476</td>\n",
       "    </tr>\n",
       "    <tr>\n",
       "      <th>...</th>\n",
       "      <td>...</td>\n",
       "      <td>...</td>\n",
       "      <td>...</td>\n",
       "    </tr>\n",
       "    <tr>\n",
       "      <th>98</th>\n",
       "      <td>M9N</td>\n",
       "      <td>43.706876</td>\n",
       "      <td>-79.518188</td>\n",
       "    </tr>\n",
       "    <tr>\n",
       "      <th>99</th>\n",
       "      <td>M9P</td>\n",
       "      <td>43.696319</td>\n",
       "      <td>-79.532242</td>\n",
       "    </tr>\n",
       "    <tr>\n",
       "      <th>100</th>\n",
       "      <td>M9R</td>\n",
       "      <td>43.688905</td>\n",
       "      <td>-79.554724</td>\n",
       "    </tr>\n",
       "    <tr>\n",
       "      <th>101</th>\n",
       "      <td>M9V</td>\n",
       "      <td>43.739416</td>\n",
       "      <td>-79.588437</td>\n",
       "    </tr>\n",
       "    <tr>\n",
       "      <th>102</th>\n",
       "      <td>M9W</td>\n",
       "      <td>43.706748</td>\n",
       "      <td>-79.594054</td>\n",
       "    </tr>\n",
       "  </tbody>\n",
       "</table>\n",
       "<p>103 rows × 3 columns</p>\n",
       "</div>"
      ],
      "text/plain": [
       "    Postal Code   Latitude  Longitude\n",
       "0           M1B  43.806686 -79.194353\n",
       "1           M1C  43.784535 -79.160497\n",
       "2           M1E  43.763573 -79.188711\n",
       "3           M1G  43.770992 -79.216917\n",
       "4           M1H  43.773136 -79.239476\n",
       "..          ...        ...        ...\n",
       "98          M9N  43.706876 -79.518188\n",
       "99          M9P  43.696319 -79.532242\n",
       "100         M9R  43.688905 -79.554724\n",
       "101         M9V  43.739416 -79.588437\n",
       "102         M9W  43.706748 -79.594054\n",
       "\n",
       "[103 rows x 3 columns]"
      ]
     },
     "execution_count": 69,
     "metadata": {},
     "output_type": "execute_result"
    }
   ],
   "source": [
    "geospatial = pd.read_csv('Geospatial_Coordinates.csv')\n",
    "\n",
    "geospatial.sort_values(['Postal Code'], ascending=True, inplace=True)\n",
    "geospatial\n"
   ]
  },
  {
   "cell_type": "markdown",
   "metadata": {},
   "source": [
    "**Get the shape of the geospatial data**"
   ]
  },
  {
   "cell_type": "code",
   "execution_count": 49,
   "metadata": {},
   "outputs": [
    {
     "data": {
      "text/plain": [
       "(103, 3)"
      ]
     },
     "execution_count": 49,
     "metadata": {},
     "output_type": "execute_result"
    }
   ],
   "source": [
    "geospatial.shape"
   ]
  },
  {
   "cell_type": "code",
   "execution_count": 70,
   "metadata": {},
   "outputs": [
    {
     "data": {
      "text/html": [
       "<div>\n",
       "<style scoped>\n",
       "    .dataframe tbody tr th:only-of-type {\n",
       "        vertical-align: middle;\n",
       "    }\n",
       "\n",
       "    .dataframe tbody tr th {\n",
       "        vertical-align: top;\n",
       "    }\n",
       "\n",
       "    .dataframe thead th {\n",
       "        text-align: right;\n",
       "    }\n",
       "</style>\n",
       "<table border=\"1\" class=\"dataframe\">\n",
       "  <thead>\n",
       "    <tr style=\"text-align: right;\">\n",
       "      <th></th>\n",
       "      <th>Postal Code</th>\n",
       "      <th>Borough</th>\n",
       "      <th>Neighborhood</th>\n",
       "      <th>Latitude</th>\n",
       "      <th>Longitude</th>\n",
       "    </tr>\n",
       "  </thead>\n",
       "  <tbody>\n",
       "    <tr>\n",
       "      <th>0</th>\n",
       "      <td>M1B</td>\n",
       "      <td>Scarborough</td>\n",
       "      <td>Malvern, Rouge</td>\n",
       "      <td>43.806686</td>\n",
       "      <td>-79.194353</td>\n",
       "    </tr>\n",
       "    <tr>\n",
       "      <th>1</th>\n",
       "      <td>M1C</td>\n",
       "      <td>Scarborough</td>\n",
       "      <td>Rouge Hill, Port Union, Highland Creek</td>\n",
       "      <td>43.784535</td>\n",
       "      <td>-79.160497</td>\n",
       "    </tr>\n",
       "    <tr>\n",
       "      <th>2</th>\n",
       "      <td>M1E</td>\n",
       "      <td>Scarborough</td>\n",
       "      <td>Guildwood, Morningside, West Hill</td>\n",
       "      <td>43.763573</td>\n",
       "      <td>-79.188711</td>\n",
       "    </tr>\n",
       "    <tr>\n",
       "      <th>3</th>\n",
       "      <td>M1G</td>\n",
       "      <td>Scarborough</td>\n",
       "      <td>Woburn</td>\n",
       "      <td>43.770992</td>\n",
       "      <td>-79.216917</td>\n",
       "    </tr>\n",
       "    <tr>\n",
       "      <th>4</th>\n",
       "      <td>M1H</td>\n",
       "      <td>Scarborough</td>\n",
       "      <td>Cedarbrae</td>\n",
       "      <td>43.773136</td>\n",
       "      <td>-79.239476</td>\n",
       "    </tr>\n",
       "    <tr>\n",
       "      <th>...</th>\n",
       "      <td>...</td>\n",
       "      <td>...</td>\n",
       "      <td>...</td>\n",
       "      <td>...</td>\n",
       "      <td>...</td>\n",
       "    </tr>\n",
       "    <tr>\n",
       "      <th>98</th>\n",
       "      <td>M9N</td>\n",
       "      <td>York</td>\n",
       "      <td>Weston</td>\n",
       "      <td>43.706876</td>\n",
       "      <td>-79.518188</td>\n",
       "    </tr>\n",
       "    <tr>\n",
       "      <th>99</th>\n",
       "      <td>M9P</td>\n",
       "      <td>Etobicoke</td>\n",
       "      <td>Westmount</td>\n",
       "      <td>43.696319</td>\n",
       "      <td>-79.532242</td>\n",
       "    </tr>\n",
       "    <tr>\n",
       "      <th>100</th>\n",
       "      <td>M9R</td>\n",
       "      <td>Etobicoke</td>\n",
       "      <td>Kingsview Village, St. Phillips, Martin Grove ...</td>\n",
       "      <td>43.688905</td>\n",
       "      <td>-79.554724</td>\n",
       "    </tr>\n",
       "    <tr>\n",
       "      <th>101</th>\n",
       "      <td>M9V</td>\n",
       "      <td>Etobicoke</td>\n",
       "      <td>South Steeles, Silverstone, Humbergate, Jamest...</td>\n",
       "      <td>43.739416</td>\n",
       "      <td>-79.588437</td>\n",
       "    </tr>\n",
       "    <tr>\n",
       "      <th>102</th>\n",
       "      <td>M9W</td>\n",
       "      <td>Etobicoke</td>\n",
       "      <td>Northwest, West Humber - Clairville</td>\n",
       "      <td>43.706748</td>\n",
       "      <td>-79.594054</td>\n",
       "    </tr>\n",
       "  </tbody>\n",
       "</table>\n",
       "<p>103 rows × 5 columns</p>\n",
       "</div>"
      ],
      "text/plain": [
       "    Postal Code      Borough  \\\n",
       "0           M1B  Scarborough   \n",
       "1           M1C  Scarborough   \n",
       "2           M1E  Scarborough   \n",
       "3           M1G  Scarborough   \n",
       "4           M1H  Scarborough   \n",
       "..          ...          ...   \n",
       "98          M9N         York   \n",
       "99          M9P    Etobicoke   \n",
       "100         M9R    Etobicoke   \n",
       "101         M9V    Etobicoke   \n",
       "102         M9W    Etobicoke   \n",
       "\n",
       "                                          Neighborhood   Latitude  Longitude  \n",
       "0                                       Malvern, Rouge  43.806686 -79.194353  \n",
       "1               Rouge Hill, Port Union, Highland Creek  43.784535 -79.160497  \n",
       "2                    Guildwood, Morningside, West Hill  43.763573 -79.188711  \n",
       "3                                               Woburn  43.770992 -79.216917  \n",
       "4                                            Cedarbrae  43.773136 -79.239476  \n",
       "..                                                 ...        ...        ...  \n",
       "98                                              Weston  43.706876 -79.518188  \n",
       "99                                           Westmount  43.696319 -79.532242  \n",
       "100  Kingsview Village, St. Phillips, Martin Grove ...  43.688905 -79.554724  \n",
       "101  South Steeles, Silverstone, Humbergate, Jamest...  43.739416 -79.588437  \n",
       "102                Northwest, West Humber - Clairville  43.706748 -79.594054  \n",
       "\n",
       "[103 rows x 5 columns]"
      ]
     },
     "execution_count": 70,
     "metadata": {},
     "output_type": "execute_result"
    }
   ],
   "source": [
    "\n",
    "cleaned_sorted = cleaned.sort_values( ['Postal Code'], ascending=True ).reset_index(drop=True)\n",
    "\n",
    "\n",
    "# copy the lat/long columns over\n",
    "cleaned_sorted['Latitude'] = geospatial['Latitude']\n",
    "cleaned_sorted['Longitude'] = geospatial['Longitude']\n",
    "\n",
    "cleaned_sorted"
   ]
  },
  {
   "cell_type": "markdown",
   "metadata": {},
   "source": [
    "---\n",
    "## PART 3\n",
    "This section is for the third part of the assignment question."
   ]
  },
  {
   "cell_type": "markdown",
   "metadata": {},
   "source": [
    "**Import additional libaries**"
   ]
  },
  {
   "cell_type": "code",
   "execution_count": 115,
   "metadata": {},
   "outputs": [
    {
     "name": "stdout",
     "output_type": "stream",
     "text": [
      "done\n"
     ]
    }
   ],
   "source": [
    "from geopy.geocoders import Nominatim # convert an address into latitude and longitude values\n",
    "\n",
    "# import k-means from clustering stage\n",
    "from sklearn.cluster import KMeans\n",
    "\n",
    "import folium # map rendering library\n",
    "\n",
    "# Matplotlib and associated plotting modules\n",
    "import matplotlib.cm as cm\n",
    "import matplotlib.colors as colors\n",
    "\n",
    "\n",
    "\n",
    "print(\"done\")"
   ]
  },
  {
   "cell_type": "markdown",
   "metadata": {},
   "source": [
    "**Get boroughs containing the string \"Toronto\"**"
   ]
  },
  {
   "cell_type": "code",
   "execution_count": 103,
   "metadata": {},
   "outputs": [
    {
     "data": {
      "text/html": [
       "<div>\n",
       "<style scoped>\n",
       "    .dataframe tbody tr th:only-of-type {\n",
       "        vertical-align: middle;\n",
       "    }\n",
       "\n",
       "    .dataframe tbody tr th {\n",
       "        vertical-align: top;\n",
       "    }\n",
       "\n",
       "    .dataframe thead th {\n",
       "        text-align: right;\n",
       "    }\n",
       "</style>\n",
       "<table border=\"1\" class=\"dataframe\">\n",
       "  <thead>\n",
       "    <tr style=\"text-align: right;\">\n",
       "      <th></th>\n",
       "      <th>Latitude</th>\n",
       "      <th>Longitude</th>\n",
       "    </tr>\n",
       "  </thead>\n",
       "  <tbody>\n",
       "    <tr>\n",
       "      <th>0</th>\n",
       "      <td>43.676357</td>\n",
       "      <td>-79.293031</td>\n",
       "    </tr>\n",
       "    <tr>\n",
       "      <th>1</th>\n",
       "      <td>43.679557</td>\n",
       "      <td>-79.352188</td>\n",
       "    </tr>\n",
       "    <tr>\n",
       "      <th>2</th>\n",
       "      <td>43.668999</td>\n",
       "      <td>-79.315572</td>\n",
       "    </tr>\n",
       "    <tr>\n",
       "      <th>3</th>\n",
       "      <td>43.659526</td>\n",
       "      <td>-79.340923</td>\n",
       "    </tr>\n",
       "    <tr>\n",
       "      <th>4</th>\n",
       "      <td>43.728020</td>\n",
       "      <td>-79.388790</td>\n",
       "    </tr>\n",
       "  </tbody>\n",
       "</table>\n",
       "</div>"
      ],
      "text/plain": [
       "    Latitude  Longitude\n",
       "0  43.676357 -79.293031\n",
       "1  43.679557 -79.352188\n",
       "2  43.668999 -79.315572\n",
       "3  43.659526 -79.340923\n",
       "4  43.728020 -79.388790"
      ]
     },
     "execution_count": 103,
     "metadata": {},
     "output_type": "execute_result"
    }
   ],
   "source": [
    "borough_toronto = cleaned_sorted[ cleaned_sorted['Borough'].str.contains('Toronto')]\n",
    "borough_toronto.reset_index(drop=True, inplace=True)\n",
    "\n",
    "borough_toronto_clustering = borough_toronto.drop(['Postal Code', 'Borough', 'Neighborhood'], 1)\n",
    "borough_toronto_clustering.head()"
   ]
  },
  {
   "cell_type": "markdown",
   "metadata": {},
   "source": [
    "**Get geo of Toronto**"
   ]
  },
  {
   "cell_type": "code",
   "execution_count": 83,
   "metadata": {},
   "outputs": [
    {
     "name": "stdout",
     "output_type": "stream",
     "text": [
      "The geograpical coordinate of Toronto are 43.6534817, -79.3839347.\n"
     ]
    }
   ],
   "source": [
    "address = 'Toronto, Canada'\n",
    "\n",
    "geolocator = Nominatim(user_agent=\"toronto_explorer\")\n",
    "location = geolocator.geocode(address)\n",
    "latitude = location.latitude\n",
    "longitude = location.longitude\n",
    "print('The geograpical coordinate of Toronto are {}, {}.'.format(latitude, longitude))"
   ]
  },
  {
   "cell_type": "markdown",
   "metadata": {},
   "source": [
    "**Run K-means**"
   ]
  },
  {
   "cell_type": "code",
   "execution_count": 125,
   "metadata": {},
   "outputs": [
    {
     "data": {
      "text/plain": [
       "array([1, 1, 1, 1, 2, 2, 2, 2, 2, 2, 3, 3, 3, 3, 3, 3, 3, 3, 3, 3, 3, 3,\n",
       "       2, 2, 3, 3, 3, 3, 3, 3, 0, 0, 0, 0, 0, 0, 0, 3, 1], dtype=int32)"
      ]
     },
     "execution_count": 125,
     "metadata": {},
     "output_type": "execute_result"
    }
   ],
   "source": [
    "# set number of clusters\n",
    "kclusters = 4\n",
    "\n",
    "# run k-means clustering\n",
    "kmeans = KMeans(n_clusters=kclusters, random_state=0).fit(borough_toronto_clustering)\n",
    "\n",
    "# check cluster labels generated for each row in the dataframe\n",
    "kmeans.labels_"
   ]
  },
  {
   "cell_type": "markdown",
   "metadata": {},
   "source": [
    "**Merge Toronto data with labels**"
   ]
  },
  {
   "cell_type": "code",
   "execution_count": 126,
   "metadata": {},
   "outputs": [
    {
     "data": {
      "text/html": [
       "<div>\n",
       "<style scoped>\n",
       "    .dataframe tbody tr th:only-of-type {\n",
       "        vertical-align: middle;\n",
       "    }\n",
       "\n",
       "    .dataframe tbody tr th {\n",
       "        vertical-align: top;\n",
       "    }\n",
       "\n",
       "    .dataframe thead th {\n",
       "        text-align: right;\n",
       "    }\n",
       "</style>\n",
       "<table border=\"1\" class=\"dataframe\">\n",
       "  <thead>\n",
       "    <tr style=\"text-align: right;\">\n",
       "      <th></th>\n",
       "      <th>Cluster Labels</th>\n",
       "      <th>Postal Code</th>\n",
       "      <th>Borough</th>\n",
       "      <th>Neighborhood</th>\n",
       "      <th>Latitude</th>\n",
       "      <th>Longitude</th>\n",
       "    </tr>\n",
       "  </thead>\n",
       "  <tbody>\n",
       "    <tr>\n",
       "      <th>0</th>\n",
       "      <td>1</td>\n",
       "      <td>M4E</td>\n",
       "      <td>East Toronto</td>\n",
       "      <td>The Beaches</td>\n",
       "      <td>43.676357</td>\n",
       "      <td>-79.293031</td>\n",
       "    </tr>\n",
       "    <tr>\n",
       "      <th>1</th>\n",
       "      <td>1</td>\n",
       "      <td>M4K</td>\n",
       "      <td>East Toronto</td>\n",
       "      <td>The Danforth West, Riverdale</td>\n",
       "      <td>43.679557</td>\n",
       "      <td>-79.352188</td>\n",
       "    </tr>\n",
       "    <tr>\n",
       "      <th>2</th>\n",
       "      <td>1</td>\n",
       "      <td>M4L</td>\n",
       "      <td>East Toronto</td>\n",
       "      <td>India Bazaar, The Beaches West</td>\n",
       "      <td>43.668999</td>\n",
       "      <td>-79.315572</td>\n",
       "    </tr>\n",
       "    <tr>\n",
       "      <th>3</th>\n",
       "      <td>1</td>\n",
       "      <td>M4M</td>\n",
       "      <td>East Toronto</td>\n",
       "      <td>Studio District</td>\n",
       "      <td>43.659526</td>\n",
       "      <td>-79.340923</td>\n",
       "    </tr>\n",
       "    <tr>\n",
       "      <th>4</th>\n",
       "      <td>2</td>\n",
       "      <td>M4N</td>\n",
       "      <td>Central Toronto</td>\n",
       "      <td>Lawrence Park</td>\n",
       "      <td>43.728020</td>\n",
       "      <td>-79.388790</td>\n",
       "    </tr>\n",
       "  </tbody>\n",
       "</table>\n",
       "</div>"
      ],
      "text/plain": [
       "   Cluster Labels Postal Code          Borough  \\\n",
       "0               1         M4E     East Toronto   \n",
       "1               1         M4K     East Toronto   \n",
       "2               1         M4L     East Toronto   \n",
       "3               1         M4M     East Toronto   \n",
       "4               2         M4N  Central Toronto   \n",
       "\n",
       "                     Neighborhood   Latitude  Longitude  \n",
       "0                     The Beaches  43.676357 -79.293031  \n",
       "1    The Danforth West, Riverdale  43.679557 -79.352188  \n",
       "2  India Bazaar, The Beaches West  43.668999 -79.315572  \n",
       "3                 Studio District  43.659526 -79.340923  \n",
       "4                   Lawrence Park  43.728020 -79.388790  "
      ]
     },
     "execution_count": 126,
     "metadata": {},
     "output_type": "execute_result"
    }
   ],
   "source": [
    "# borough_toronto.drop('Cluster Labels',1)\n",
    "\n",
    "# copy\n",
    "borough_toronto_new = borough_toronto.iloc[:];\n",
    "\n",
    "# # # add clustering labels back to the data\n",
    "borough_toronto_new.insert(0, 'Cluster Labels', kmeans.labels_)\n",
    "\n",
    "borough_toronto_new.head()\n",
    "\n",
    "# # merge manhattan_grouped with manhattan_data to add latitude/longitude for each neighborhood\n",
    "# manhattan_merged = manhattan_merged.join(neighborhoods_venues_sorted.set_index('Neighborhood'), on='Neighborhood')\n",
    "\n",
    "# manhattan_merged.head() # check the last columns!"
   ]
  },
  {
   "cell_type": "markdown",
   "metadata": {},
   "source": [
    "**Plot**"
   ]
  },
  {
   "cell_type": "code",
   "execution_count": 127,
   "metadata": {},
   "outputs": [
    {
     "data": {
      "text/html": [
       "<div style=\"width:100%;\"><div style=\"position:relative;width:100%;height:0;padding-bottom:60%;\"><span style=\"color:#565656\">Make this Notebook Trusted to load map: File -> Trust Notebook</span><iframe src=\"about:blank\" style=\"position:absolute;width:100%;height:100%;left:0;top:0;border:none !important;\" data-html=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 onload=\"this.contentDocument.open();this.contentDocument.write(atob(this.getAttribute('data-html')));this.contentDocument.close();\" allowfullscreen webkitallowfullscreen mozallowfullscreen></iframe></div></div>"
      ],
      "text/plain": [
       "<folium.folium.Map at 0x7ff0676b5c90>"
      ]
     },
     "execution_count": 127,
     "metadata": {},
     "output_type": "execute_result"
    }
   ],
   "source": [
    "# create map\n",
    "map_clusters = folium.Map(location=[latitude, longitude], zoom_start=11)\n",
    "\n",
    "# # set color scheme for the clusters\n",
    "x = np.arange(kclusters)\n",
    "ys = [i + x + (i*x)**2 for i in range(kclusters)]\n",
    "colors_array = cm.rainbow(np.linspace(0, 1, len(ys)))\n",
    "rainbow = [colors.rgb2hex(i) for i in colors_array]\n",
    "\n",
    "# add markers to the map\n",
    "markers_colors = []\n",
    "for lat, lon, postal, poi, cluster in zip(borough_toronto_new['Latitude'], borough_toronto_new['Longitude'], borough_toronto_new['Postal Code'], borough_toronto_new['Borough'], borough_toronto_new['Cluster Labels']):\n",
    "    label = folium.Popup( str(postal) + '(' + str(poi) + '), Cluster ' + str(cluster), parse_html=True)\n",
    "    folium.CircleMarker(\n",
    "        [lat, lon],\n",
    "        radius=5,\n",
    "        popup=label,\n",
    "        color=rainbow[cluster-1],\n",
    "        fill=True,\n",
    "        fill_color=rainbow[cluster-1],\n",
    "        fill_opacity=0.7).add_to(map_clusters)\n",
    "       \n",
    "map_clusters"
   ]
  },
  {
   "cell_type": "code",
   "execution_count": null,
   "metadata": {},
   "outputs": [],
   "source": []
  }
 ],
 "metadata": {
  "kernelspec": {
   "display_name": "Python 3",
   "language": "python",
   "name": "python3"
  },
  "language_info": {
   "codemirror_mode": {
    "name": "ipython",
    "version": 3
   },
   "file_extension": ".py",
   "mimetype": "text/x-python",
   "name": "python",
   "nbconvert_exporter": "python",
   "pygments_lexer": "ipython3",
   "version": "3.7.9"
  }
 },
 "nbformat": 4,
 "nbformat_minor": 4
}
