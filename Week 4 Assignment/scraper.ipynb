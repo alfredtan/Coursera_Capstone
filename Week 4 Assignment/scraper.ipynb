{
 "cells": [
  {
   "cell_type": "code",
   "execution_count": 31,
   "metadata": {},
   "outputs": [],
   "source": [
    "import pandas as pd\n",
    "import numpy as np\n",
    "import requests\n",
    "import re\n",
    "\n",
    "from bs4 import BeautifulSoup"
   ]
  },
  {
   "cell_type": "code",
   "execution_count": 44,
   "metadata": {},
   "outputs": [
    {
     "name": "stdout",
     "output_type": "stream",
     "text": [
      "<tr bgcolor=\"#d42e12\">\n",
      "<td colspan=\"10\" style=\"text-align:center;\"><b><a class=\"mw-redirect\" href=\"/wiki/North_South_MRT_Line\" title=\"North South MRT Line\"><span style=\"color:white;\">North South Line (NSL)</span></a></b>\n",
      "</td></tr>\n",
      "<tr bgcolor=\"#009645\">\n",
      "<td colspan=\"10\" style=\"text-align:center;\"><b><a class=\"mw-redirect\" href=\"/wiki/East_West_MRT_Line\" title=\"East West MRT Line\"><span style=\"color:white;\">East West Line (EWL)</span></a></b>\n",
      "</td></tr>\n",
      "<tr bgcolor=\"#009645\">\n",
      "<td colspan=\"10\" style=\"text-align:center;\"><b><a class=\"mw-redirect\" href=\"/wiki/East_West_MRT_Line\" title=\"East West MRT Line\"><span style=\"color:white;\">Changi Airport Branch Line (CGL)</span></a></b>\n",
      "</td></tr>\n",
      "<tr bgcolor=\"#9900aa\">\n",
      "<td colspan=\"10\" style=\"text-align:center;\"><b><a class=\"mw-redirect\" href=\"/wiki/North_East_MRT_Line\" title=\"North East MRT Line\"><span style=\"color:white;\">North East Line (NEL)</span></a></b>\n",
      "</td></tr>\n",
      "<tr bgcolor=\"#fa9e0d\">\n",
      "<td colspan=\"10\" style=\"text-align:center;\"><b><a class=\"mw-redirect\" href=\"/wiki/Circle_MRT_Line\" title=\"Circle MRT Line\"><span style=\"color:white;\">Circle Line (CCL)</span></a></b>\n",
      "</td></tr>\n",
      "<tr bgcolor=\"#005ec4\">\n",
      "<td colspan=\"10\" style=\"text-align:center;\"><b><a class=\"mw-redirect\" href=\"/wiki/Downtown_MRT_Line\" title=\"Downtown MRT Line\"><span style=\"color:white;\">Downtown Line (DTL)</span></a></b>\n",
      "</td></tr>\n",
      "<tr bgcolor=\"#9D5B25\">\n",
      "<td colspan=\"10\" style=\"text-align:center;\"><b><a class=\"mw-redirect\" href=\"/wiki/Thomson%E2%80%93East_Coast_MRT_Line\" title=\"Thomson–East Coast MRT Line\"><span style=\"color:white;\">Thomson–East Coast Line (TEL)</span></a></b>\n",
      "</td></tr>\n"
     ]
    }
   ],
   "source": [
    "mrt_lines = [\"NSL\", \"EWL\", \"CGL\", \"NEL\", \"CCL\", \"DTL\", \"TEL\" ]\n",
    "\n",
    "\n",
    "source = requests.get('https://en.wikipedia.org/wiki/List_of_Singapore_MRT_stations').text\n",
    "\n",
    "soup = BeautifulSoup(source, 'html.parser')\n",
    "\n",
    "mrt_stations_table = soup.find(id=\"MRT_stations\").parent.next_sibling.next_sibling\n",
    "\n",
    "for line in mrt_lines:\n",
    "    text_to_find = '\\(' + line + '\\)$'\n",
    "    station_name = soup.find(text=re.compile( text_to_find ))\n",
    "    print (station_name.parent.parent.parent.parent.parent)\n",
    "    \n",
    "    \n",
    "\n",
    "    \n",
    "    \n",
    "# get all stations name rows\n",
    "\n",
    "# for tr in mrt_stations_table.find_all(bgcolor=True):\n",
    "#     print(tr.find(\"span\").get_text())\n",
    "\n"
   ]
  },
  {
   "cell_type": "code",
   "execution_count": null,
   "metadata": {},
   "outputs": [],
   "source": []
  }
 ],
 "metadata": {
  "kernelspec": {
   "display_name": "Python 3",
   "language": "python",
   "name": "python3"
  },
  "language_info": {
   "codemirror_mode": {
    "name": "ipython",
    "version": 3
   },
   "file_extension": ".py",
   "mimetype": "text/x-python",
   "name": "python",
   "nbconvert_exporter": "python",
   "pygments_lexer": "ipython3",
   "version": "3.7.9"
  }
 },
 "nbformat": 4,
 "nbformat_minor": 4
}
