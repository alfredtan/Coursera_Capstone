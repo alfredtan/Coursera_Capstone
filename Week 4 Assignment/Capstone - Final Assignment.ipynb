{
 "cells": [
  {
   "cell_type": "markdown",
   "metadata": {},
   "source": [
    "# Exploring Singapore's food culture near major train stations"
   ]
  },
  {
   "cell_type": "markdown",
   "metadata": {},
   "source": [
    "## Introduction/Business Problem\n",
    "\n",
    "**Background**\n",
    "\n",
    "Singapore's Mass Rapid Transport (MRT) is well connected is one of the main  transport mode in the country. In 2019, the average daily ridership is at 3.384 million, which is about half the population of Singapore. \n",
    "\n",
    "Like any country, going out for food and drinks is common and is a part of the culture where people spending time catching-up with each other, or just trying out new places. Similarly, businesses are also changing, and new ones are appearing. \n",
    "\n",
    "**Problem area**\n",
    "\n",
    "Singapore is a small country and business competition high - for both business owners and customers - too many options to choose from, or compete against. \n",
    "\n",
    "For this project, we will try to determine the top 10 food and drinks places located around major MRT interchanges. \n",
    "\n",
    "**Target Audience**\n",
    "\n",
    "Hopefully, this observation can help new business owners understand the landscape just a little more before they startup, as well as to help customers  pick their next outing. \n",
    "\n",
    "**Scope**\n",
    "\n",
    "For the purpose of this project, MRT interchanges are stations that connects 2 or more MRT networks, and excludes those that connects to Light Rail Transits stations."
   ]
  },
  {
   "cell_type": "markdown",
   "metadata": {},
   "source": [
    "## Data\n",
    "\n",
    "The data required for this analysis are:\n",
    "\n",
    "1. List of MRT interchanges and its latitude and longitude. An example source found in [data.world](http://data.world) has the features required:\n",
    "    1. stn_name\n",
    "    2. stn_no\n",
    "    3. latitude\n",
    "    4. longitude\n",
    "    5. color (color of the MRT network link)\n",
    "2. Data for busiest MRT interchanges. [mytransport.sg](http://mytransport.sg) provides monthly ridership statistics, however the data needs to be understood further before using, as it records the entry and exits of the station gantries instead of the passenger count.\n",
    "3. Nearby venues from Foursquare. We will be using the `explore` API endpoint to source for venues near each of the MRT interchange\n",
    "\n",
    "At this point, the following sources will be used to source for the data:\n",
    "\n",
    "- data.gov.sg\n",
    "- mytransport.sg\n",
    "- data.world\n",
    "- Wikipedia\n",
    "- Foursquare"
   ]
  },
  {
   "cell_type": "code",
   "execution_count": null,
   "metadata": {},
   "outputs": [],
   "source": []
  }
 ],
 "metadata": {
  "kernelspec": {
   "display_name": "Python 3",
   "language": "python",
   "name": "python3"
  },
  "language_info": {
   "name": ""
  }
 },
 "nbformat": 4,
 "nbformat_minor": 4
}
