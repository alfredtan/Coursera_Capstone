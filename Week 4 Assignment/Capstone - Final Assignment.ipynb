{
 "cells": [
  {
   "cell_type": "markdown",
   "metadata": {},
   "source": [
    "# Exploring Singapore's food culture near major train stations"
   ]
  },
  {
   "cell_type": "markdown",
   "metadata": {},
   "source": [
    "## Introduction\n",
    "\n",
    "**Background**\n",
    "\n",
    "Singapore's Mass Rapid Transport (MRT) is well connected is one of the main transport mode in the country. In 2019, the average daily ridership is at 3.384 million, which is about half the population of Singapore. \n",
    "\n",
    "Like any country, going out for food and drinks is common and is a part of the culture where people spending time catching-up with each other, or just trying out new places. Similarly, businesses are also changing, and new ones are appearing. \n",
    "\n",
    "**Problem area**\n",
    "\n",
    "Singapore is a small country and business competition is high. For both business owners and customers, there are too many options to choose from, or compete against.\n",
    "\n",
    "For this project, we will try to determine the top 10 food and drinks places located around major MRT interchanges. \n",
    "\n",
    "**Target Audience**\n",
    "\n",
    "Hopefully, this observation can help new business owners understand the landscape just a little more before they startup, as well as to help customers  pick their next outing. \n",
    "\n",
    "**Scope**\n",
    "\n",
    "For the purpose of this project, MRT interchanges are the main train networks that connects 2 or more other networks, and excludes those that connects to Light Rail Transits stations."
   ]
  },
  {
   "cell_type": "markdown",
   "metadata": {},
   "source": [
    "## Data\n",
    "\n",
    "The datasets required for this analysis are:\n",
    "\n",
    "1. List of MRT interchanges and its latitude and longitude. The source can be found in [data.world](https://data.world/hxchua/train-stations-in-singapore) and has the features required:\n",
    "    1. stn_name\n",
    "    2. stn_no\n",
    "    3. latitude\n",
    "    4. longitude\n",
    "    5. color (color of the MRT network link)  \n",
    "    \n",
    "2. Data for busiest MRT interchanges. [mytransport.sg](http://mytransport.sg) provides monthly ridership statistics, however the data needs to be understood further before using, as it records the entry and exits of the station gantries instead of the passenger count.\n",
    "3. Nearby venues from Foursquare. We will be using the `explore` API endpoint to source for venues near each of the MRT interchange\n",
    "\n",
    "At this point, the following sources are identified:\n",
    "\n",
    "- data.gov.sg\n",
    "- mytransport.sg\n",
    "- data.world\n",
    "- Wikipedia\n",
    "- Foursquare"
   ]
  },
  {
   "cell_type": "markdown",
   "metadata": {},
   "source": [
    "## Methodology"
   ]
  },
  {
   "cell_type": "markdown",
   "metadata": {},
   "source": [
    "### Import required libraries"
   ]
  },
  {
   "cell_type": "code",
   "execution_count": 109,
   "metadata": {},
   "outputs": [
    {
     "name": "stdout",
     "output_type": "stream",
     "text": [
      "Libraries loaded\n"
     ]
    }
   ],
   "source": [
    "import requests # library to handle requests\n",
    "import pandas as pd # library for data analsysis\n",
    "import numpy as np # library to handle data in a vectorized manner\n",
    "import folium\n",
    "import matplotlib.pyplot as plt\n",
    "\n",
    "from geopy.geocoders import Nominatim\n",
    "\n",
    "pd.set_option('display.max_columns', None)\n",
    "pd.set_option('display.max_rows', None)\n",
    "\n",
    "print (\"Libraries loaded\")"
   ]
  },
  {
   "cell_type": "markdown",
   "metadata": {},
   "source": [
    "### 1. Identifying MRT Interchanges\n",
    "We'll start by taking a look at the list of MRT stations taken from the data.world source. "
   ]
  },
  {
   "cell_type": "code",
   "execution_count": 307,
   "metadata": {},
   "outputs": [
    {
     "data": {
      "text/html": [
       "<div>\n",
       "<style scoped>\n",
       "    .dataframe tbody tr th:only-of-type {\n",
       "        vertical-align: middle;\n",
       "    }\n",
       "\n",
       "    .dataframe tbody tr th {\n",
       "        vertical-align: top;\n",
       "    }\n",
       "\n",
       "    .dataframe thead th {\n",
       "        text-align: right;\n",
       "    }\n",
       "</style>\n",
       "<table border=\"1\" class=\"dataframe\">\n",
       "  <thead>\n",
       "    <tr style=\"text-align: right;\">\n",
       "      <th></th>\n",
       "      <th>Station Name</th>\n",
       "      <th>Station No</th>\n",
       "      <th>Latitude</th>\n",
       "      <th>Longitude</th>\n",
       "      <th>Color</th>\n",
       "    </tr>\n",
       "  </thead>\n",
       "  <tbody>\n",
       "    <tr>\n",
       "      <th>0</th>\n",
       "      <td>ADMIRALTY MRT STATION</td>\n",
       "      <td>NS10</td>\n",
       "      <td>1.440585</td>\n",
       "      <td>103.800998</td>\n",
       "      <td>red</td>\n",
       "    </tr>\n",
       "    <tr>\n",
       "      <th>1</th>\n",
       "      <td>ALJUNIED MRT STATION</td>\n",
       "      <td>EW9</td>\n",
       "      <td>1.316433</td>\n",
       "      <td>103.882893</td>\n",
       "      <td>green</td>\n",
       "    </tr>\n",
       "    <tr>\n",
       "      <th>2</th>\n",
       "      <td>ANG MO KIO MRT STATION</td>\n",
       "      <td>NS16</td>\n",
       "      <td>1.369933</td>\n",
       "      <td>103.849553</td>\n",
       "      <td>red</td>\n",
       "    </tr>\n",
       "    <tr>\n",
       "      <th>3</th>\n",
       "      <td>BAKAU LRT STATION</td>\n",
       "      <td>SE3</td>\n",
       "      <td>1.388093</td>\n",
       "      <td>103.905418</td>\n",
       "      <td>others</td>\n",
       "    </tr>\n",
       "    <tr>\n",
       "      <th>4</th>\n",
       "      <td>BANGKIT LRT STATION</td>\n",
       "      <td>BP9</td>\n",
       "      <td>1.380018</td>\n",
       "      <td>103.772667</td>\n",
       "      <td>others</td>\n",
       "    </tr>\n",
       "  </tbody>\n",
       "</table>\n",
       "</div>"
      ],
      "text/plain": [
       "             Station Name Station No  Latitude   Longitude   Color\n",
       "0   ADMIRALTY MRT STATION       NS10  1.440585  103.800998     red\n",
       "1    ALJUNIED MRT STATION        EW9  1.316433  103.882893   green\n",
       "2  ANG MO KIO MRT STATION       NS16  1.369933  103.849553     red\n",
       "3       BAKAU LRT STATION        SE3  1.388093  103.905418  others\n",
       "4     BANGKIT LRT STATION        BP9  1.380018  103.772667  others"
      ]
     },
     "execution_count": 307,
     "metadata": {},
     "output_type": "execute_result"
    }
   ],
   "source": [
    "sg_mrt_stations_all = pd.read_csv( \"data/dataworld-singapore-mrt-stations.csv\" )\n",
    "\n",
    "# remove columns we don't need\n",
    "sg_mrt_stations_all.drop( ['OBJECTID', 'X', 'Y' ], axis=1, inplace=True )\n",
    "\n",
    "# rename some columns\n",
    "sg_mrt_stations_all.rename( columns={ 'STN_NAME': 'Station Name', 'STN_NO':'Station No', 'COLOR': 'Color' }, inplace=True)\n",
    "\n",
    "# convert color values to lowercase\n",
    "sg_mrt_stations_all['Color'] = sg_mrt_stations_all['Color'].str.lower()\n",
    "\n",
    "sg_mrt_stations_all.head()\n"
   ]
  },
  {
   "cell_type": "code",
   "execution_count": 308,
   "metadata": {},
   "outputs": [
    {
     "data": {
      "text/plain": [
       "(187, 5)"
      ]
     },
     "execution_count": 308,
     "metadata": {},
     "output_type": "execute_result"
    }
   ],
   "source": [
    "# check the shape\n",
    "sg_mrt_stations_all.shape"
   ]
  },
  {
   "cell_type": "markdown",
   "metadata": {},
   "source": [
    "The data provided is structured in a way that the MRT station names that are interchanges are repeated for each train network it is connected to. We can quickly verify this:"
   ]
  },
  {
   "cell_type": "code",
   "execution_count": 346,
   "metadata": {},
   "outputs": [
    {
     "data": {
      "text/html": [
       "<div>\n",
       "<style scoped>\n",
       "    .dataframe tbody tr th:only-of-type {\n",
       "        vertical-align: middle;\n",
       "    }\n",
       "\n",
       "    .dataframe tbody tr th {\n",
       "        vertical-align: top;\n",
       "    }\n",
       "\n",
       "    .dataframe thead th {\n",
       "        text-align: right;\n",
       "    }\n",
       "</style>\n",
       "<table border=\"1\" class=\"dataframe\">\n",
       "  <thead>\n",
       "    <tr style=\"text-align: right;\">\n",
       "      <th></th>\n",
       "      <th>Total Stations</th>\n",
       "    </tr>\n",
       "    <tr>\n",
       "      <th>Station Name</th>\n",
       "      <th></th>\n",
       "    </tr>\n",
       "  </thead>\n",
       "  <tbody>\n",
       "    <tr>\n",
       "      <th>DHOBY GHAUT MRT STATION</th>\n",
       "      <td>3</td>\n",
       "    </tr>\n",
       "    <tr>\n",
       "      <th>BOTANIC GARDENS MRT STATION</th>\n",
       "      <td>2</td>\n",
       "    </tr>\n",
       "    <tr>\n",
       "      <th>SERANGOON MRT STATION</th>\n",
       "      <td>2</td>\n",
       "    </tr>\n",
       "    <tr>\n",
       "      <th>HARBOURFRONT MRT STATION</th>\n",
       "      <td>2</td>\n",
       "    </tr>\n",
       "    <tr>\n",
       "      <th>RAFFLES PLACE MRT STATION</th>\n",
       "      <td>2</td>\n",
       "    </tr>\n",
       "    <tr>\n",
       "      <th>CITY HALL MRT STATION</th>\n",
       "      <td>2</td>\n",
       "    </tr>\n",
       "    <tr>\n",
       "      <th>PROMENADE MRT STATION</th>\n",
       "      <td>2</td>\n",
       "    </tr>\n",
       "    <tr>\n",
       "      <th>CHINATOWN MRT STATION</th>\n",
       "      <td>2</td>\n",
       "    </tr>\n",
       "    <tr>\n",
       "      <th>TAMPINES MRT STATION</th>\n",
       "      <td>2</td>\n",
       "    </tr>\n",
       "    <tr>\n",
       "      <th>JURONG EAST MRT STATION</th>\n",
       "      <td>2</td>\n",
       "    </tr>\n",
       "  </tbody>\n",
       "</table>\n",
       "</div>"
      ],
      "text/plain": [
       "                             Total Stations\n",
       "Station Name                               \n",
       "DHOBY GHAUT MRT STATION                   3\n",
       "BOTANIC GARDENS MRT STATION               2\n",
       "SERANGOON MRT STATION                     2\n",
       "HARBOURFRONT MRT STATION                  2\n",
       "RAFFLES PLACE MRT STATION                 2\n",
       "CITY HALL MRT STATION                     2\n",
       "PROMENADE MRT STATION                     2\n",
       "CHINATOWN MRT STATION                     2\n",
       "TAMPINES MRT STATION                      2\n",
       "JURONG EAST MRT STATION                   2"
      ]
     },
     "execution_count": 346,
     "metadata": {},
     "output_type": "execute_result"
    }
   ],
   "source": [
    "# sg_mrt_stations_all[\"STN_NAME\"].value_counts()\n",
    "#In [36]: DataFrame({'count' : df1.groupby( [ \"Name\", \"City\"] ).size()}).reset_index()\n",
    "\n",
    "sg_mrt_stations_all_grouped = sg_mrt_stations_all.loc[:].groupby('Station Name').count()\n",
    "sg_mrt_stations_all_grouped.rename( columns = { 'Station No' : 'Total Stations' }, inplace=True)\n",
    "sg_mrt_stations_all_grouped[ ['Total Stations'] ].sort_values( ['Total Stations'], ascending=False ).head(10)\n",
    "\n"
   ]
  },
  {
   "cell_type": "markdown",
   "metadata": {},
   "source": [
    "From the list above, we can check if **DHOBY GHAUT MRT STATION** is connected to **3** train network lines:"
   ]
  },
  {
   "cell_type": "code",
   "execution_count": 310,
   "metadata": {},
   "outputs": [
    {
     "data": {
      "text/html": [
       "<div>\n",
       "<style scoped>\n",
       "    .dataframe tbody tr th:only-of-type {\n",
       "        vertical-align: middle;\n",
       "    }\n",
       "\n",
       "    .dataframe tbody tr th {\n",
       "        vertical-align: top;\n",
       "    }\n",
       "\n",
       "    .dataframe thead th {\n",
       "        text-align: right;\n",
       "    }\n",
       "</style>\n",
       "<table border=\"1\" class=\"dataframe\">\n",
       "  <thead>\n",
       "    <tr style=\"text-align: right;\">\n",
       "      <th></th>\n",
       "      <th>Station Name</th>\n",
       "      <th>Station No</th>\n",
       "      <th>Latitude</th>\n",
       "      <th>Longitude</th>\n",
       "      <th>Color</th>\n",
       "    </tr>\n",
       "  </thead>\n",
       "  <tbody>\n",
       "    <tr>\n",
       "      <th>51</th>\n",
       "      <td>DHOBY GHAUT MRT STATION</td>\n",
       "      <td>NS24</td>\n",
       "      <td>1.298701</td>\n",
       "      <td>103.846112</td>\n",
       "      <td>red</td>\n",
       "    </tr>\n",
       "    <tr>\n",
       "      <th>52</th>\n",
       "      <td>DHOBY GHAUT MRT STATION</td>\n",
       "      <td>NE6</td>\n",
       "      <td>1.299705</td>\n",
       "      <td>103.845485</td>\n",
       "      <td>purple</td>\n",
       "    </tr>\n",
       "    <tr>\n",
       "      <th>53</th>\n",
       "      <td>DHOBY GHAUT MRT STATION</td>\n",
       "      <td>CC1</td>\n",
       "      <td>1.298843</td>\n",
       "      <td>103.846236</td>\n",
       "      <td>yellow</td>\n",
       "    </tr>\n",
       "  </tbody>\n",
       "</table>\n",
       "</div>"
      ],
      "text/plain": [
       "               Station Name Station No  Latitude   Longitude   Color\n",
       "51  DHOBY GHAUT MRT STATION       NS24  1.298701  103.846112     red\n",
       "52  DHOBY GHAUT MRT STATION        NE6  1.299705  103.845485  purple\n",
       "53  DHOBY GHAUT MRT STATION        CC1  1.298843  103.846236  yellow"
      ]
     },
     "execution_count": 310,
     "metadata": {},
     "output_type": "execute_result"
    }
   ],
   "source": [
    "sg_mrt_stations_all[ sg_mrt_stations_all[\"Station Name\"] == \"DHOBY GHAUT MRT STATION\" ]"
   ]
  },
  {
   "cell_type": "markdown",
   "metadata": {},
   "source": [
    "We can confirm that it is indeed connected to 3 stations; **NS24**, **NE6**, and **CC1**. With this, we will now proceed with further cleaning and drop rows that are not interchanges."
   ]
  },
  {
   "cell_type": "code",
   "execution_count": 428,
   "metadata": {},
   "outputs": [
    {
     "data": {
      "text/html": [
       "<div>\n",
       "<style scoped>\n",
       "    .dataframe tbody tr th:only-of-type {\n",
       "        vertical-align: middle;\n",
       "    }\n",
       "\n",
       "    .dataframe tbody tr th {\n",
       "        vertical-align: top;\n",
       "    }\n",
       "\n",
       "    .dataframe thead th {\n",
       "        text-align: right;\n",
       "    }\n",
       "</style>\n",
       "<table border=\"1\" class=\"dataframe\">\n",
       "  <thead>\n",
       "    <tr style=\"text-align: right;\">\n",
       "      <th></th>\n",
       "      <th>Station Name</th>\n",
       "      <th>Station No</th>\n",
       "      <th>Latitude</th>\n",
       "      <th>Longitude</th>\n",
       "      <th>Color</th>\n",
       "    </tr>\n",
       "  </thead>\n",
       "  <tbody>\n",
       "    <tr>\n",
       "      <th>0</th>\n",
       "      <td>BAYFRONT MRT STATION</td>\n",
       "      <td>DT16</td>\n",
       "      <td>1.281874</td>\n",
       "      <td>103.859073</td>\n",
       "      <td>blue</td>\n",
       "    </tr>\n",
       "    <tr>\n",
       "      <th>1</th>\n",
       "      <td>BAYFRONT MRT STATION</td>\n",
       "      <td>CE1</td>\n",
       "      <td>1.281874</td>\n",
       "      <td>103.859073</td>\n",
       "      <td>others</td>\n",
       "    </tr>\n",
       "    <tr>\n",
       "      <th>2</th>\n",
       "      <td>BISHAN MRT STATION</td>\n",
       "      <td>CC15</td>\n",
       "      <td>1.351309</td>\n",
       "      <td>103.849150</td>\n",
       "      <td>yellow</td>\n",
       "    </tr>\n",
       "    <tr>\n",
       "      <th>3</th>\n",
       "      <td>BISHAN MRT STATION</td>\n",
       "      <td>NS17</td>\n",
       "      <td>1.350839</td>\n",
       "      <td>103.848140</td>\n",
       "      <td>red</td>\n",
       "    </tr>\n",
       "    <tr>\n",
       "      <th>4</th>\n",
       "      <td>BOTANIC GARDENS MRT STATION</td>\n",
       "      <td>DT9</td>\n",
       "      <td>1.322424</td>\n",
       "      <td>103.816136</td>\n",
       "      <td>blue</td>\n",
       "    </tr>\n",
       "    <tr>\n",
       "      <th>5</th>\n",
       "      <td>BOTANIC GARDENS MRT STATION</td>\n",
       "      <td>CC19</td>\n",
       "      <td>1.322110</td>\n",
       "      <td>103.814988</td>\n",
       "      <td>yellow</td>\n",
       "    </tr>\n",
       "    <tr>\n",
       "      <th>6</th>\n",
       "      <td>BUGIS MRT STATION</td>\n",
       "      <td>DT14</td>\n",
       "      <td>1.299551</td>\n",
       "      <td>103.856862</td>\n",
       "      <td>blue</td>\n",
       "    </tr>\n",
       "    <tr>\n",
       "      <th>7</th>\n",
       "      <td>BUGIS MRT STATION</td>\n",
       "      <td>EW12</td>\n",
       "      <td>1.300465</td>\n",
       "      <td>103.855701</td>\n",
       "      <td>green</td>\n",
       "    </tr>\n",
       "    <tr>\n",
       "      <th>8</th>\n",
       "      <td>BUONA VISTA MRT STATION</td>\n",
       "      <td>EW21</td>\n",
       "      <td>1.307183</td>\n",
       "      <td>103.790203</td>\n",
       "      <td>green</td>\n",
       "    </tr>\n",
       "    <tr>\n",
       "      <th>9</th>\n",
       "      <td>BUONA VISTA MRT STATION</td>\n",
       "      <td>CC22</td>\n",
       "      <td>1.306492</td>\n",
       "      <td>103.790665</td>\n",
       "      <td>yellow</td>\n",
       "    </tr>\n",
       "  </tbody>\n",
       "</table>\n",
       "</div>"
      ],
      "text/plain": [
       "                  Station Name Station No  Latitude   Longitude   Color\n",
       "0         BAYFRONT MRT STATION       DT16  1.281874  103.859073    blue\n",
       "1         BAYFRONT MRT STATION        CE1  1.281874  103.859073  others\n",
       "2           BISHAN MRT STATION       CC15  1.351309  103.849150  yellow\n",
       "3           BISHAN MRT STATION       NS17  1.350839  103.848140     red\n",
       "4  BOTANIC GARDENS MRT STATION        DT9  1.322424  103.816136    blue\n",
       "5  BOTANIC GARDENS MRT STATION       CC19  1.322110  103.814988  yellow\n",
       "6            BUGIS MRT STATION       DT14  1.299551  103.856862    blue\n",
       "7            BUGIS MRT STATION       EW12  1.300465  103.855701   green\n",
       "8      BUONA VISTA MRT STATION       EW21  1.307183  103.790203   green\n",
       "9      BUONA VISTA MRT STATION       CC22  1.306492  103.790665  yellow"
      ]
     },
     "execution_count": 428,
     "metadata": {},
     "output_type": "execute_result"
    }
   ],
   "source": [
    "\n",
    "# First we'll create a dataframe that contains only NON interchanges\n",
    "sg_mrt_stations_not_inx_names = sg_mrt_stations_all_grouped.loc[:].reset_index()\n",
    "# sg_mrt_stations_not_inx_names.drop(['Latitude', 'Longitude', 'Color'], axis=1,  inplace=True )\n",
    "\n",
    "# get the indexes that are indexes to drop\n",
    "indexes_to_drop = sg_mrt_stations_not_inx_names[ sg_mrt_stations_not_inx_names['Total Stations'] > 1 ].index \n",
    "\n",
    "# drop\n",
    "sg_mrt_stations_not_inx_names.drop(indexes_to_drop, inplace = True)\n",
    "\n",
    "sg_mrt_stations_not_inx_names.reset_index(inplace=True, drop=True)\n",
    "\n",
    "# sg_mrt_stations_not_inx_names\n",
    "\n",
    "\n",
    "# get a copy of the full list\n",
    "sg_mrt_stations_inx = sg_mrt_stations_all.loc[:]\n",
    "\n",
    "# loop through the list of NON interchanges\n",
    "for row in sg_mrt_stations_not_inx_names['Station Name']:\n",
    "    # drop it\n",
    "    sg_mrt_stations_inx.drop( sg_mrt_stations_inx[ sg_mrt_stations_inx['Station Name'] == row ].index, inplace = True )\n",
    "\n",
    "\n",
    "sg_mrt_stations_inx.reset_index(inplace=True, drop=True)\n",
    "\n",
    "sg_mrt_stations_inx.head(10)\n"
   ]
  },
  {
   "cell_type": "markdown",
   "metadata": {},
   "source": [
    "The provided data contains a **'color'** column which corresponds to official color (not in exact color code) assigned to the train network line. We note that there are colors assigned as 'Others':"
   ]
  },
  {
   "cell_type": "code",
   "execution_count": 429,
   "metadata": {},
   "outputs": [
    {
     "data": {
      "text/html": [
       "<div>\n",
       "<style scoped>\n",
       "    .dataframe tbody tr th:only-of-type {\n",
       "        vertical-align: middle;\n",
       "    }\n",
       "\n",
       "    .dataframe tbody tr th {\n",
       "        vertical-align: top;\n",
       "    }\n",
       "\n",
       "    .dataframe thead th {\n",
       "        text-align: right;\n",
       "    }\n",
       "</style>\n",
       "<table border=\"1\" class=\"dataframe\">\n",
       "  <thead>\n",
       "    <tr style=\"text-align: right;\">\n",
       "      <th></th>\n",
       "      <th>Station Name</th>\n",
       "      <th>Station No</th>\n",
       "      <th>Latitude</th>\n",
       "      <th>Longitude</th>\n",
       "      <th>Color</th>\n",
       "    </tr>\n",
       "  </thead>\n",
       "  <tbody>\n",
       "    <tr>\n",
       "      <th>1</th>\n",
       "      <td>BAYFRONT MRT STATION</td>\n",
       "      <td>CE1</td>\n",
       "      <td>1.281874</td>\n",
       "      <td>103.859073</td>\n",
       "      <td>others</td>\n",
       "    </tr>\n",
       "    <tr>\n",
       "      <th>17</th>\n",
       "      <td>EXPO MRT STATION</td>\n",
       "      <td>CG1</td>\n",
       "      <td>1.334550</td>\n",
       "      <td>103.961513</td>\n",
       "      <td>others</td>\n",
       "    </tr>\n",
       "    <tr>\n",
       "      <th>28</th>\n",
       "      <td>MARINA BAY MRT STATION</td>\n",
       "      <td>CE2</td>\n",
       "      <td>1.276151</td>\n",
       "      <td>103.855089</td>\n",
       "      <td>others</td>\n",
       "    </tr>\n",
       "    <tr>\n",
       "      <th>44</th>\n",
       "      <td>WOODLANDS MRT STATION</td>\n",
       "      <td>TE2</td>\n",
       "      <td>1.436067</td>\n",
       "      <td>103.787945</td>\n",
       "      <td>others</td>\n",
       "    </tr>\n",
       "  </tbody>\n",
       "</table>\n",
       "</div>"
      ],
      "text/plain": [
       "              Station Name Station No  Latitude   Longitude   Color\n",
       "1     BAYFRONT MRT STATION        CE1  1.281874  103.859073  others\n",
       "17        EXPO MRT STATION        CG1  1.334550  103.961513  others\n",
       "28  MARINA BAY MRT STATION        CE2  1.276151  103.855089  others\n",
       "44   WOODLANDS MRT STATION        TE2  1.436067  103.787945  others"
      ]
     },
     "execution_count": 429,
     "metadata": {},
     "output_type": "execute_result"
    }
   ],
   "source": [
    "sg_mrt_stations_inx[ sg_mrt_stations_inx['Color'] == 'others' ]"
   ]
  },
  {
   "cell_type": "markdown",
   "metadata": {},
   "source": [
    "We will correct these values manually as it is faster that to do so. Color references can be checked here: https://en.wikipedia.org/wiki/List_of_Singapore_MRT_stations#MRT_stations"
   ]
  },
  {
   "cell_type": "code",
   "execution_count": 430,
   "metadata": {},
   "outputs": [
    {
     "data": {
      "text/html": [
       "<div>\n",
       "<style scoped>\n",
       "    .dataframe tbody tr th:only-of-type {\n",
       "        vertical-align: middle;\n",
       "    }\n",
       "\n",
       "    .dataframe tbody tr th {\n",
       "        vertical-align: top;\n",
       "    }\n",
       "\n",
       "    .dataframe thead th {\n",
       "        text-align: right;\n",
       "    }\n",
       "</style>\n",
       "<table border=\"1\" class=\"dataframe\">\n",
       "  <thead>\n",
       "    <tr style=\"text-align: right;\">\n",
       "      <th></th>\n",
       "      <th>Station Name</th>\n",
       "      <th>Station No</th>\n",
       "      <th>Latitude</th>\n",
       "      <th>Longitude</th>\n",
       "      <th>Color</th>\n",
       "    </tr>\n",
       "  </thead>\n",
       "  <tbody>\n",
       "    <tr>\n",
       "      <th>1</th>\n",
       "      <td>BAYFRONT MRT STATION</td>\n",
       "      <td>CE1</td>\n",
       "      <td>1.281874</td>\n",
       "      <td>103.859073</td>\n",
       "      <td>yellow</td>\n",
       "    </tr>\n",
       "    <tr>\n",
       "      <th>17</th>\n",
       "      <td>EXPO MRT STATION</td>\n",
       "      <td>CG1</td>\n",
       "      <td>1.334550</td>\n",
       "      <td>103.961513</td>\n",
       "      <td>green</td>\n",
       "    </tr>\n",
       "    <tr>\n",
       "      <th>28</th>\n",
       "      <td>MARINA BAY MRT STATION</td>\n",
       "      <td>CE2</td>\n",
       "      <td>1.276151</td>\n",
       "      <td>103.855089</td>\n",
       "      <td>yellow</td>\n",
       "    </tr>\n",
       "    <tr>\n",
       "      <th>44</th>\n",
       "      <td>WOODLANDS MRT STATION</td>\n",
       "      <td>TE2</td>\n",
       "      <td>1.436067</td>\n",
       "      <td>103.787945</td>\n",
       "      <td>brown</td>\n",
       "    </tr>\n",
       "  </tbody>\n",
       "</table>\n",
       "</div>"
      ],
      "text/plain": [
       "              Station Name Station No  Latitude   Longitude   Color\n",
       "1     BAYFRONT MRT STATION        CE1  1.281874  103.859073  yellow\n",
       "17        EXPO MRT STATION        CG1  1.334550  103.961513   green\n",
       "28  MARINA BAY MRT STATION        CE2  1.276151  103.855089  yellow\n",
       "44   WOODLANDS MRT STATION        TE2  1.436067  103.787945   brown"
      ]
     },
     "execution_count": 430,
     "metadata": {},
     "output_type": "execute_result"
    }
   ],
   "source": [
    "# Update using the indexes from the table above\n",
    "sg_mrt_stations_inx.loc[1, 'Color'] = 'yellow'\n",
    "sg_mrt_stations_inx.loc[17, 'Color'] = 'green'\n",
    "sg_mrt_stations_inx.loc[28, 'Color'] = 'yellow'\n",
    "sg_mrt_stations_inx.loc[44, 'Color'] = 'brown'\n",
    "\n",
    "\n",
    "# let's check the values again\n",
    "sg_mrt_stations_inx.loc[[1, 17, 28, 44]]"
   ]
  },
  {
   "cell_type": "markdown",
   "metadata": {},
   "source": [
    "Now we will plot these on a map to visulize their positions."
   ]
  },
  {
   "cell_type": "code",
   "execution_count": 431,
   "metadata": {},
   "outputs": [
    {
     "name": "stdout",
     "output_type": "stream",
     "text": [
      "The geograpical coordinate of Singapore are 1.3408630000000001, 103.83039182212079.\n"
     ]
    }
   ],
   "source": [
    "address = 'Singapore, SG'\n",
    "\n",
    "geolocator = Nominatim(user_agent=\"sg_explorer\")\n",
    "location = geolocator.geocode(address)\n",
    "latitude = location.latitude\n",
    "longitude = location.longitude\n",
    "print('The geograpical coordinate of Singapore are {}, {}.'.format(latitude, longitude))"
   ]
  },
  {
   "cell_type": "code",
   "execution_count": 436,
   "metadata": {},
   "outputs": [
    {
     "data": {
      "text/html": [
       "<div style=\"width:100%;\"><div style=\"position:relative;width:100%;height:0;padding-bottom:60%;\"><span style=\"color:#565656\">Make this Notebook Trusted to load map: File -> Trust Notebook</span><iframe src=\"about:blank\" style=\"position:absolute;width:100%;height:100%;left:0;top:0;border:none !important;\" data-html=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 onload=\"this.contentDocument.open();this.contentDocument.write(atob(this.getAttribute('data-html')));this.contentDocument.close();\" allowfullscreen webkitallowfullscreen mozallowfullscreen></iframe></div></div>"
      ],
      "text/plain": [
       "<folium.folium.Map at 0x7f1beb99d3d0>"
      ]
     },
     "execution_count": 436,
     "metadata": {},
     "output_type": "execute_result"
    }
   ],
   "source": [
    "map = folium.Map(location=[latitude, longitude], zoom_start=12, tiles='Stamen Terrain')\n",
    "\n",
    "\n",
    "# add markers to map\n",
    "for lat, lng, label, color in zip(sg_mrt_stations_inx['Latitude'], sg_mrt_stations_inx['Longitude'], sg_mrt_stations_inx['Station Name'] + \"(\" + sg_mrt_stations_inx['Station No'] + \")\", sg_mrt_stations_inx['Color'] ):\n",
    "    label = folium.Popup(label, parse_html=True)\n",
    "    folium.CircleMarker(\n",
    "        [lat, lng],\n",
    "        radius=5,\n",
    "        popup=label,\n",
    "        color=color,\n",
    "        fill=True,\n",
    "        fill_color='#3186cc',\n",
    "        fill_opacity=0.7,\n",
    "        parse_html=False).add_to(map)  \n",
    "    \n",
    "    \n",
    "map"
   ]
  },
  {
   "cell_type": "markdown",
   "metadata": {},
   "source": [
    "We have now plotted the stations on each interchange, however, the stations are close to each other, and we are more concerned with the general surrounding of the interchange. Let's clean up the data little further but grouping the data by interchange name and using the `mean` for its latitude and longitude"
   ]
  },
  {
   "cell_type": "code",
   "execution_count": 434,
   "metadata": {},
   "outputs": [
    {
     "data": {
      "text/plain": [
       "True"
      ]
     },
     "execution_count": 434,
     "metadata": {},
     "output_type": "execute_result"
    }
   ],
   "source": [
    "    \n",
    "mean_coords = sg_mrt_stations_inx.loc[:]\n",
    "mean_coords.drop(['Station No', 'Color'], axis=1, inplace=True )\n",
    "mean_coords = mean_coords.groupby('Station Name').mean()\n",
    "mean_coords.reset_index(inplace=True)\n",
    "# print(mean_coords.shape)\n",
    "# print( mean_coords[ mean_coords['Station Name'] == 'BISHAN MRT STATION'] )\n",
    "\n",
    "current_station = ''\n",
    "\n",
    "sg_mrt_inx_merged = pd.DataFrame(columns=['Station Name', 'Station Nos', 'Colors', 'Latitude', 'Longitude'] )\n",
    "\n",
    "for index, row in sg_mrt_stations_inx.iterrows():\n",
    "    \n",
    "    if( current_station != row['Station Name'] ):\n",
    "        \n",
    "        if(current_station != ''):\n",
    "            sg_mrt_inx_merged = sg_mrt_inx_merged.append({\n",
    "                'Station Name': current_station, \n",
    "                'Station Nos': ','.join(station_nos),\n",
    "                'Colors': ','.join(colors),\n",
    "                'Latitude': mean_coords[ mean_coords['Station Name'] == current_station]['Latitude'].iloc[0],\n",
    "                'Longitude': mean_coords[ mean_coords['Station Name'] == current_station]['Longitude'].iloc[0]\n",
    "            }, ignore_index=True)\n",
    "        \n",
    "        colors = []\n",
    "        station_nos = []\n",
    "        current_station = row['Station Name']\n",
    "#         print(current_station)\n",
    "        \n",
    "    colors.append(row['Color'])\n",
    "    station_nos.append(row['Station No'])\n",
    "\n",
    "# save the last data    \n",
    "sg_mrt_inx_merged = sg_mrt_inx_merged.append({\n",
    "    'Station Name': current_station, \n",
    "    'Station Nos': ','.join(station_nos),\n",
    "    'Colors': ','.join(colors),\n",
    "    'Latitude': mean_coords[ mean_coords['Station Name'] == current_station]['Latitude'].iloc[0],\n",
    "    'Longitude': mean_coords[ mean_coords['Station Name'] == current_station]['Longitude'].iloc[0]\n",
    "}, ignore_index=True)\n",
    "\n",
    "# check that we have the same number of rows\n",
    "mean_coords.shape[0] == sg_mrt_inx_merged.shape[0]\n",
    "    "
   ]
  },
  {
   "cell_type": "code",
   "execution_count": 435,
   "metadata": {},
   "outputs": [
    {
     "data": {
      "text/html": [
       "<div style=\"width:100%;\"><div style=\"position:relative;width:100%;height:0;padding-bottom:60%;\"><span style=\"color:#565656\">Make this Notebook Trusted to load map: File -> Trust Notebook</span><iframe src=\"about:blank\" style=\"position:absolute;width:100%;height:100%;left:0;top:0;border:none !important;\" data-html=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 onload=\"this.contentDocument.open();this.contentDocument.write(atob(this.getAttribute('data-html')));this.contentDocument.close();\" allowfullscreen webkitallowfullscreen mozallowfullscreen></iframe></div></div>"
      ],
      "text/plain": [
       "<folium.folium.Map at 0x7f1beb9ea110>"
      ]
     },
     "execution_count": 435,
     "metadata": {},
     "output_type": "execute_result"
    }
   ],
   "source": [
    "map = folium.Map(location=[latitude, longitude], zoom_start=12, tiles='Stamen Terrain')\n",
    "\n",
    "\n",
    "# add markers to map\n",
    "for lat, lng, label, color in zip(sg_mrt_inx_merged['Latitude'], sg_mrt_inx_merged['Longitude'], sg_mrt_inx_merged['Station Name'] + \" (\" + sg_mrt_inx_merged['Station Nos'] + \")\", sg_mrt_inx_merged['Colors'] ):\n",
    "    label = folium.Popup(label, parse_html=True)\n",
    "    folium.CircleMarker(\n",
    "        [lat, lng],\n",
    "        radius=5,\n",
    "        popup=label,\n",
    "        color='red',\n",
    "        fill=True,\n",
    "        fill_color='#3186cc',\n",
    "        fill_opacity=0.7,\n",
    "        parse_html=False).add_to(map)  \n",
    "    \n",
    "    \n",
    "map"
   ]
  },
  {
   "cell_type": "markdown",
   "metadata": {},
   "source": [
    "## 2. Exploring the busiest interchanges"
   ]
  },
  {
   "cell_type": "markdown",
   "metadata": {},
   "source": [
    "## Results"
   ]
  },
  {
   "cell_type": "markdown",
   "metadata": {},
   "source": [
    "## Discussion"
   ]
  },
  {
   "cell_type": "markdown",
   "metadata": {},
   "source": [
    "## Conclusion"
   ]
  },
  {
   "cell_type": "code",
   "execution_count": 236,
   "metadata": {},
   "outputs": [
    {
     "data": {
      "text/plain": [
       "Index(['b', 'd'], dtype='object')"
      ]
     },
     "execution_count": 236,
     "metadata": {},
     "output_type": "execute_result"
    }
   ],
   "source": [
    "# import pandas library \n",
    "import pandas as pd \n",
    "  \n",
    "# dictionary with list object in values \n",
    "details = { \n",
    "    'Name' : ['Ankit', 'Aishwarya', 'Shaurya', \n",
    "              'Shivangi', 'Priya', 'Swapnil'], \n",
    "    'Age' : [23, 21, 22, 21, 24, 25], \n",
    "    'University' : ['BHU', 'JNU', 'DU', 'BHU',  \n",
    "                    'Geu', 'Geu'], \n",
    "} \n",
    "  \n",
    "# creating a Dataframe object  \n",
    "df = pd.DataFrame(details, columns = ['Name', 'Age', \n",
    "                                      'University'], \n",
    "                  index = ['a', 'b', 'c', 'd', 'e', 'f']) \n",
    "  \n",
    "# get names of indexes for which \n",
    "# column Age has value 21 \n",
    "index_names = df[ df['Age'] == 21 ].index \n",
    "  \n",
    "# # drop these row indexes \n",
    "# # from dataFrame \n",
    "# df.drop(index_names, inplace = True) \n",
    "  \n",
    "# df \n",
    "index_names"
   ]
  }
 ],
 "metadata": {
  "kernelspec": {
   "display_name": "Python 3",
   "language": "python",
   "name": "python3"
  },
  "language_info": {
   "codemirror_mode": {
    "name": "ipython",
    "version": 3
   },
   "file_extension": ".py",
   "mimetype": "text/x-python",
   "name": "python",
   "nbconvert_exporter": "python",
   "pygments_lexer": "ipython3",
   "version": "3.7.9"
  }
 },
 "nbformat": 4,
 "nbformat_minor": 4
}
